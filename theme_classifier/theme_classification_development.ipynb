{
 "cells": [
  {
   "cell_type": "code",
   "execution_count": 11,
   "id": "15d36be0",
   "metadata": {},
   "outputs": [
    {
     "name": "stderr",
     "output_type": "stream",
     "text": [
      "[nltk_data] Downloading package punkt to /Users/great/nltk_data...\n",
      "[nltk_data]   Package punkt is already up-to-date!\n"
     ]
    },
    {
     "data": {
      "text/plain": [
       "True"
      ]
     },
     "execution_count": 11,
     "metadata": {},
     "output_type": "execute_result"
    }
   ],
   "source": [
    "from transformers import pipeline\n",
    "from nltk import sent_tokenize\n",
    "from glob import glob\n",
    "import nltk\n",
    "import torch\n",
    "\n",
    "nltk.download('punkt')"
   ]
  },
  {
   "cell_type": "markdown",
   "id": "56334b92",
   "metadata": {},
   "source": [
    "# Load Model"
   ]
  },
  {
   "cell_type": "code",
   "execution_count": null,
   "id": "08bbec47",
   "metadata": {},
   "outputs": [],
   "source": [
    "# print(\"PyTorch version:\", torch.__version__)\n",
    "# print(\"Is MPS available (Mac GPU)?\", torch.backends.mps.is_available())\n",
    "# print(\"Is CUDA available?\", torch.cuda.is_available())\n",
    "\n",
    "model_name = \"facebook/bart-large-mnli\"\n",
    "\n",
    "# for cpu device\n",
    "# device = 0 if torch.cuda.is_available() else \"cpu\"\n",
    "\n",
    "# for mac device\n",
    "device = torch.device(\"mps\" if torch.backends.mps.is_available() else \"cpu\")\n"
   ]
  },
  {
   "cell_type": "code",
   "execution_count": 13,
   "id": "5f230309",
   "metadata": {},
   "outputs": [],
   "source": [
    "def load_model(device):\n",
    "  theme_classifier = pipeline(\n",
    "    \"zero-shot-classification\",\n",
    "    model = model_name,\n",
    "    device = device\n",
    "  )\n",
    "  return theme_classifier"
   ]
  },
  {
   "cell_type": "code",
   "execution_count": 14,
   "id": "4181916d",
   "metadata": {},
   "outputs": [],
   "source": [
    "theme_classifier = load_model(device)"
   ]
  },
  {
   "cell_type": "code",
   "execution_count": 15,
   "id": "475fd685",
   "metadata": {},
   "outputs": [],
   "source": [
    "theme_list = [\"friendship\", \"hope\", \"sacrifice\", \"battle\", \"self development\", \"betrayal\", \"love\", \"dialogue\"]"
   ]
  },
  {
   "cell_type": "code",
   "execution_count": 16,
   "id": "78d3aede",
   "metadata": {},
   "outputs": [
    {
     "data": {
      "text/plain": [
       "{'sequence': 'I gave him a right hook then a left jab.',\n",
       " 'labels': ['battle',\n",
       "  'self development',\n",
       "  'hope',\n",
       "  'sacrifice',\n",
       "  'dialogue',\n",
       "  'betrayal',\n",
       "  'love',\n",
       "  'friendship'],\n",
       " 'scores': [0.92702716588974,\n",
       "  0.5092481374740601,\n",
       "  0.09717525541782379,\n",
       "  0.05299970507621765,\n",
       "  0.01680295355618,\n",
       "  0.013136457651853561,\n",
       "  0.007817891426384449,\n",
       "  0.0034400257281959057]}"
      ]
     },
     "execution_count": 16,
     "metadata": {},
     "output_type": "execute_result"
    }
   ],
   "source": [
    "theme_classifier(\n",
    "  \"I gave him a right hook then a left jab.\",\n",
    "  theme_list,\n",
    "  multi_label=True,\n",
    ")"
   ]
  },
  {
   "cell_type": "markdown",
   "id": "1e7c3080",
   "metadata": {},
   "source": [
    "# Load dataset"
   ]
  },
  {
   "cell_type": "code",
   "execution_count": 17,
   "id": "04f45939",
   "metadata": {},
   "outputs": [],
   "source": [
    "files = glob(\"../data/Subtitles/*.ass\")"
   ]
  },
  {
   "cell_type": "code",
   "execution_count": 18,
   "id": "f30f0c49",
   "metadata": {},
   "outputs": [
    {
     "data": {
      "text/plain": [
       "['../data/Subtitles/Naruto Season 4 - 94.ass',\n",
       " '../data/Subtitles/Naruto Season 4 - 80.ass',\n",
       " '../data/Subtitles/Naruto Season 2 - 32.ass',\n",
       " '../data/Subtitles/Naruto Season 8 - 185.ass',\n",
       " '../data/Subtitles/Naruto Season 8 - 191.ass']"
      ]
     },
     "execution_count": 18,
     "metadata": {},
     "output_type": "execute_result"
    }
   ],
   "source": [
    "files[:5]"
   ]
  }
 ],
 "metadata": {
  "kernelspec": {
   "display_name": "nlp_tv_series",
   "language": "python",
   "name": "python3"
  },
  "language_info": {
   "codemirror_mode": {
    "name": "ipython",
    "version": 3
   },
   "file_extension": ".py",
   "mimetype": "text/x-python",
   "name": "python",
   "nbconvert_exporter": "python",
   "pygments_lexer": "ipython3",
   "version": "3.12.9"
  }
 },
 "nbformat": 4,
 "nbformat_minor": 5
}
